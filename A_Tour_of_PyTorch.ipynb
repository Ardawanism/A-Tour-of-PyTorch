{
  "nbformat": 4,
  "nbformat_minor": 0,
  "metadata": {
    "colab": {
      "provenance": [],
      "gpuType": "T4"
    },
    "kernelspec": {
      "name": "python3",
      "display_name": "Python 3"
    },
    "language_info": {
      "name": "python"
    },
    "accelerator": "GPU"
  },
  "cells": [
    {
      "cell_type": "markdown",
      "source": [
        "## This tutorial on PyTorch is gathered and edited by Ardavan Modarres; Initial coding: 2024-08-25."
      ],
      "metadata": {
        "id": "iqBBOrRQRMVx"
      }
    },
    {
      "cell_type": "markdown",
      "source": [
        "# Table of Contents:\n",
        "* [Introductory Stuff](#first-bullet)\n",
        "** [Defining tensors](#first-bullet)\n",
        "** [Some information about the tensors](#first-bullet)\n",
        "** [Getting the device that tensors are defined on](#first-bullet)\n",
        "** [Defining zero, one, empty, and identity matrices](#first-bullet)\n",
        "** [Generate random tensors](#first-bullet)\n",
        "** [Some basic operations+defining new tensors like another one](#first-bullet)\n",
        "** [Loading and saving tensors](#first-bullet)\n",
        "** [Some PyTorch functions](#first-bullet)\n",
        "* [Defining and training NNs](#second-bullet)\n",
        "** [Defining models (a CNN for instance) using nn.Sequential](#first-bullet)\n",
        "** [Training a dense and a convolutional neural network for classification of Fashion MNIST dataset](#first-bullet)\n",
        "** [1: Training a Fully Connected Neural Network](#third-bullet)\n",
        "** [Defining hyperparameters and loading the dataset](#first-bullet)\n",
        "** [Defining the fully connected network](#first-bullet)\n",
        "** [Defining the train and test functions](#first-bullet)\n",
        "** [Defining the criterion, optimizer, and doing the train and test steps](#first-bullet)\n",
        "** [2: Training a convolutional neural network](#first-bullet)\n",
        "** [Defining hyperparameters](#first-bullet)\n",
        "** [Defining a class for the convolutional neural network](#first-bullet)\n",
        "** [Defining the criterion, optimizer, instanciating an object from CNN class, and doing the train and test steps](#first-bullet)"
      ],
      "metadata": {
        "id": "bY4rIjXbKSY4"
      }
    },
    {
      "cell_type": "markdown",
      "source": [
        "# Introductory Stuff"
      ],
      "metadata": {
        "id": "IOZwgICNF4TV"
      }
    },
    {
      "cell_type": "code",
      "execution_count": 38,
      "metadata": {
        "id": "EzgpEnsn5PcO"
      },
      "outputs": [],
      "source": [
        "# Imports\n",
        "import numpy as np\n",
        "import torch\n",
        "import torch.nn as nn\n",
        "import torch.nn.functional as F\n",
        "import torchvision.datasets as datasets\n",
        "import torchvision.transforms as transforms\n",
        "from torch import optim\n",
        "from torch.utils.data import DataLoader\n",
        "import matplotlib.pyplot as plt\n",
        "import seaborn as sn\n",
        "from collections import OrderedDict\n",
        "import math\n",
        "from tqdm import tqdm"
      ]
    },
    {
      "cell_type": "code",
      "source": [
        "print(torch.__version__) # print current torch version installed"
      ],
      "metadata": {
        "colab": {
          "base_uri": "https://localhost:8080/"
        },
        "id": "YaDF64SY6WNa",
        "outputId": "176d426c-b6fb-486d-9bda-9951c9bb094f"
      },
      "execution_count": 39,
      "outputs": [
        {
          "output_type": "stream",
          "name": "stdout",
          "text": [
            "2.3.1+cu121\n"
          ]
        }
      ]
    },
    {
      "cell_type": "markdown",
      "source": [
        "## Defining tensors"
      ],
      "metadata": {
        "id": "mPuZlDww62Pk"
      }
    },
    {
      "cell_type": "code",
      "source": [
        "v = [[1, 2, 3], [4, 5, 6], [7, 8, 9]]\n",
        "print(type(v))\n",
        "t1 = torch.tensor(v)  # Defining a torch tensor from an input list\n",
        "t2 = torch.tensor(np.array(v))  # Defining a torch tensor from an input numpy array\n",
        "t2prime = torch.from_numpy(np.array(v))\n",
        "t22numpy = t2.numpy()  # tensor to numpy array\n",
        "print(\"t1:\\n\", t1)\n",
        "print(\"t2\\n\", t2)\n",
        "print(\"t2prime\\n\", t2prime)\n",
        "print(t1==t2)"
      ],
      "metadata": {
        "colab": {
          "base_uri": "https://localhost:8080/"
        },
        "id": "tgeL0r0p6scP",
        "outputId": "05c3066c-ef31-4ca1-d329-7442f20cf752"
      },
      "execution_count": 40,
      "outputs": [
        {
          "output_type": "stream",
          "name": "stdout",
          "text": [
            "<class 'list'>\n",
            "t1:\n",
            " tensor([[1, 2, 3],\n",
            "        [4, 5, 6],\n",
            "        [7, 8, 9]])\n",
            "t2\n",
            " tensor([[1, 2, 3],\n",
            "        [4, 5, 6],\n",
            "        [7, 8, 9]])\n",
            "t2prime\n",
            " tensor([[1, 2, 3],\n",
            "        [4, 5, 6],\n",
            "        [7, 8, 9]])\n",
            "tensor([[True, True, True],\n",
            "        [True, True, True],\n",
            "        [True, True, True]])\n"
          ]
        }
      ]
    },
    {
      "cell_type": "markdown",
      "source": [
        "## Some information about the tensors"
      ],
      "metadata": {
        "id": "vdSXNxbK-DU6"
      }
    },
    {
      "cell_type": "code",
      "source": [
        "print(\"t1.shape = \", t1.shape)\n",
        "print(\"t1.size = \", t1.size())\n",
        "print(\"t1 num elements = \", t1.numel())\n",
        "print(\"Sum of elements of t1: \", t1.sum().item())\n",
        "print(\"t1 min: \", t1.min(), \"t1 max: \", t1.max())\n",
        "print(\"t1 min: \", t1.min().item(), \"t1 max: \", t1.max().item())\n",
        "print(\"t1 type: \", type(t1), t1.dtype)\n",
        "print(\"t1 DType: \", t1.float().dtype)\n",
        "print(\"t1 mean: \", t1.float().mean().item(), \"t1 std: \", t1.float().std().item())\n",
        "print(\"Transposed tensor:\\n\", t1.t())\n",
        "print(\"Sliced tensor:\\n\", t1.t()[:, 0])\n",
        "print(\"Reshaped tensor:\\n\", t1.view(9, 1))\n",
        "print(\"Reshaped tensor:\\n\", t1.view(1, -1))\n",
        "print(\"Repeated tensor:\\n\", t1.repeat(2, 2))\n",
        "print(t1.dtype, t1.type(torch.float16).dtype) # change tensor type: tensor.type(torch.type)"
      ],
      "metadata": {
        "colab": {
          "base_uri": "https://localhost:8080/"
        },
        "id": "Gcy6SbrY-HAj",
        "outputId": "3c47d37d-02f0-4463-d36a-00435b76b956"
      },
      "execution_count": 41,
      "outputs": [
        {
          "output_type": "stream",
          "name": "stdout",
          "text": [
            "t1.shape =  torch.Size([3, 3])\n",
            "t1.size =  torch.Size([3, 3])\n",
            "t1 num elements =  9\n",
            "Sum of elements of t1:  45\n",
            "t1 min:  tensor(1) t1 max:  tensor(9)\n",
            "t1 min:  1 t1 max:  9\n",
            "t1 type:  <class 'torch.Tensor'> torch.int64\n",
            "t1 DType:  torch.float32\n",
            "t1 mean:  5.0 t1 std:  2.7386128902435303\n",
            "Transposed tensor:\n",
            " tensor([[1, 4, 7],\n",
            "        [2, 5, 8],\n",
            "        [3, 6, 9]])\n",
            "Sliced tensor:\n",
            " tensor([1, 2, 3])\n",
            "Reshaped tensor:\n",
            " tensor([[1],\n",
            "        [2],\n",
            "        [3],\n",
            "        [4],\n",
            "        [5],\n",
            "        [6],\n",
            "        [7],\n",
            "        [8],\n",
            "        [9]])\n",
            "Reshaped tensor:\n",
            " tensor([[1, 2, 3, 4, 5, 6, 7, 8, 9]])\n",
            "Repeated tensor:\n",
            " tensor([[1, 2, 3, 1, 2, 3],\n",
            "        [4, 5, 6, 4, 5, 6],\n",
            "        [7, 8, 9, 7, 8, 9],\n",
            "        [1, 2, 3, 1, 2, 3],\n",
            "        [4, 5, 6, 4, 5, 6],\n",
            "        [7, 8, 9, 7, 8, 9]])\n",
            "torch.int64 torch.float16\n"
          ]
        }
      ]
    },
    {
      "cell_type": "markdown",
      "source": [
        "## Getting device that tensors are defined on"
      ],
      "metadata": {
        "id": "xuc1B-bi8PY5"
      }
    },
    {
      "cell_type": "code",
      "source": [
        "print(t2.device)\n",
        "device = torch.device(\"cuda\" if torch.cuda.is_available() else \"cpu\") # Set device to cuda for using GPU if it's available otherwise set device to CPU\n",
        "t2 = t2.to(device)\n",
        "print(t2.device)\n",
        "t3 = torch.tensor(v, device=device) # Defining tensor on specific device (if available!)\n",
        "print(t3.device)"
      ],
      "metadata": {
        "colab": {
          "base_uri": "https://localhost:8080/"
        },
        "id": "A_MShsKq7TEZ",
        "outputId": "ac572b82-a4a2-464b-ae3b-5d1dfcd8a63b"
      },
      "execution_count": 42,
      "outputs": [
        {
          "output_type": "stream",
          "name": "stdout",
          "text": [
            "cpu\n",
            "cuda:0\n",
            "cuda:0\n"
          ]
        }
      ]
    },
    {
      "cell_type": "markdown",
      "source": [
        "## Defining zero, one, empty, and identity matrices"
      ],
      "metadata": {
        "id": "z61s6_xhGJZO"
      }
    },
    {
      "cell_type": "code",
      "source": [
        "t4 = torch.zeros((3, 3), device=device, dtype=torch.float)\n",
        "t5 = torch.ones((3, 3), device=device, dtype=torch.float)\n",
        "t6 = torch.eye(3, 3, device=device, dtype=torch.float64)\n",
        "\n",
        "print(\"t4:\\n\", t4,\"\\n\", \"t5:\\n\", t5,\"\\n\", \"t6:\\n\", t6,\"\\n\")\n",
        "t7 = torch.empty(4, 4)\n",
        "print(\"t7:\\n\", t7,\"\\n\")\n",
        "t7.fill_(0.85)\n",
        "print(\"t7 filled with 0.85:\\n\", t7,\"\\n\")"
      ],
      "metadata": {
        "colab": {
          "base_uri": "https://localhost:8080/"
        },
        "id": "Hj4qXvy_HG-9",
        "outputId": "f7eabfc6-62ee-4755-e66c-1683cfe73208"
      },
      "execution_count": 43,
      "outputs": [
        {
          "output_type": "stream",
          "name": "stdout",
          "text": [
            "t4:\n",
            " tensor([[0., 0., 0.],\n",
            "        [0., 0., 0.],\n",
            "        [0., 0., 0.]], device='cuda:0') \n",
            " t5:\n",
            " tensor([[1., 1., 1.],\n",
            "        [1., 1., 1.],\n",
            "        [1., 1., 1.]], device='cuda:0') \n",
            " t6:\n",
            " tensor([[1., 0., 0.],\n",
            "        [0., 1., 0.],\n",
            "        [0., 0., 1.]], device='cuda:0', dtype=torch.float64) \n",
            "\n",
            "t7:\n",
            " tensor([[1.5123e-21, 3.3477e-41, 2.3423e-16, 3.3477e-41],\n",
            "        [0.0000e+00, 0.0000e+00, 0.0000e+00, 0.0000e+00],\n",
            "        [1.4013e-45, 0.0000e+00, 0.0000e+00, 0.0000e+00],\n",
            "        [0.0000e+00, 0.0000e+00, 6.8664e-44, 0.0000e+00]]) \n",
            "\n",
            "t7 filled with 0.85:\n",
            " tensor([[0.8500, 0.8500, 0.8500, 0.8500],\n",
            "        [0.8500, 0.8500, 0.8500, 0.8500],\n",
            "        [0.8500, 0.8500, 0.8500, 0.8500],\n",
            "        [0.8500, 0.8500, 0.8500, 0.8500]]) \n",
            "\n"
          ]
        }
      ]
    },
    {
      "cell_type": "markdown",
      "source": [
        "### Visit the following link to learn all tensor types: [PyTorch Tensor Types](https://pytorch.org/docs/stable/tensors.html)"
      ],
      "metadata": {
        "id": "AFbBAIDYamEH"
      }
    },
    {
      "cell_type": "markdown",
      "source": [
        "## Generate random tensors"
      ],
      "metadata": {
        "id": "SCM_KfDwJjXw"
      }
    },
    {
      "cell_type": "code",
      "source": [
        "t8 = torch.rand(3, 3) # Returns a tensor filled with random numbers from a uniform distribution on the interval [0,1)\n",
        "t9 = torch.randn(3, 3) # Returns a tensor filled with random numbers from a standard normal distribution (with mean 0 and variance 1)\n",
        "t10 = torch.randint(0, 85, (3, 3))\n",
        "print(\"t8:\\n\", t8,\"\\n\", \"t9:\\n\", t9,\"\\n\", \"t10:\\n\", t10,\"\\n\")\n",
        "print(\"t10+t8:\\n\", t10+t8,\"\\n\", \"t10-t9:\\n\", t10-t9,\"\\n\", \"t9*t8:\\n\", t9*t8,\"\\n\", \"t9/t8:\\n\", t9/t8,\"\\n\", \"(t9+5)^t8:\\n\", (t9+5)**t8)\n",
        "print(\"t10+t8:\\n\", torch.add(t10, t8),\"\\n\", \"t10-t9:\\n\", torch.sub(t10, t9),\"\\n\", \"t9*t8:\\n\",torch.mul(t9, t8),\"\\n\", \"t9/t8:\\n\", torch.div(t9, t8),\"\\n\",\n",
        "      \"(t9+5)^t8:\\n\", torch.pow(t9+5, t8))\n",
        "print(\"Matrix Multiplication: \\n\", torch.mm(t8, t9))  # also torch.matmul and tensor@tensor\n",
        "print(\"Mlltiplies input with other: \\n\", torch.mul(t8, 1000))\n",
        "print(\"Add input to other: \\n\", t8.add_(1000))"
      ],
      "metadata": {
        "colab": {
          "base_uri": "https://localhost:8080/"
        },
        "id": "sowyUxd98WqB",
        "outputId": "63e3fd62-a9ca-4496-ec8c-528424aaabba"
      },
      "execution_count": 44,
      "outputs": [
        {
          "output_type": "stream",
          "name": "stdout",
          "text": [
            "t8:\n",
            " tensor([[0.7826, 0.1020, 0.4817],\n",
            "        [0.2437, 0.4905, 0.8451],\n",
            "        [0.7637, 0.5100, 0.5639]]) \n",
            " t9:\n",
            " tensor([[ 0.4720,  0.3086, -0.6538],\n",
            "        [ 1.0962, -1.3652,  0.3708],\n",
            "        [-1.0072,  1.4209, -0.9086]]) \n",
            " t10:\n",
            " tensor([[24,  1,  6],\n",
            "        [44,  0, 74],\n",
            "        [22,  8, 64]]) \n",
            "\n",
            "t10+t8:\n",
            " tensor([[24.7826,  1.1020,  6.4817],\n",
            "        [44.2437,  0.4905, 74.8451],\n",
            "        [22.7637,  8.5100, 64.5639]]) \n",
            " t10-t9:\n",
            " tensor([[23.5280,  0.6914,  6.6538],\n",
            "        [42.9038,  1.3652, 73.6292],\n",
            "        [23.0072,  6.5791, 64.9086]]) \n",
            " t9*t8:\n",
            " tensor([[ 0.3694,  0.0315, -0.3149],\n",
            "        [ 0.2671, -0.6697,  0.3134],\n",
            "        [-0.7692,  0.7247, -0.5123]]) \n",
            " t9/t8:\n",
            " tensor([[ 0.6031,  3.0248, -1.3574],\n",
            "        [ 4.4984, -2.7830,  0.4388],\n",
            "        [-1.3188,  2.7861, -1.6112]]) \n",
            " (t9+5)^t8:\n",
            " tensor([[3.7817, 1.1857, 2.0294],\n",
            "        [1.5535, 1.8834, 4.1397],\n",
            "        [2.8788, 2.5815, 2.2133]])\n",
            "t10+t8:\n",
            " tensor([[24.7826,  1.1020,  6.4817],\n",
            "        [44.2437,  0.4905, 74.8451],\n",
            "        [22.7637,  8.5100, 64.5639]]) \n",
            " t10-t9:\n",
            " tensor([[23.5280,  0.6914,  6.6538],\n",
            "        [42.9038,  1.3652, 73.6292],\n",
            "        [23.0072,  6.5791, 64.9086]]) \n",
            " t9*t8:\n",
            " tensor([[ 0.3694,  0.0315, -0.3149],\n",
            "        [ 0.2671, -0.6697,  0.3134],\n",
            "        [-0.7692,  0.7247, -0.5123]]) \n",
            " t9/t8:\n",
            " tensor([[ 0.6031,  3.0248, -1.3574],\n",
            "        [ 4.4984, -2.7830,  0.4388],\n",
            "        [-1.3188,  2.7861, -1.6112]]) \n",
            " (t9+5)^t8:\n",
            " tensor([[3.7817, 1.1857, 2.0294],\n",
            "        [1.5535, 1.8834, 4.1397],\n",
            "        [2.8788, 2.5815, 2.2133]])\n",
            "Matrix Multiplication: \n",
            " tensor([[-0.0039,  0.7867, -0.9115],\n",
            "        [-0.1985,  0.6064, -0.7453],\n",
            "        [ 0.3516,  0.3407, -0.8226]])\n",
            "Mlltiplies input with other: \n",
            " tensor([[782.6176, 102.0347, 481.6775],\n",
            "        [243.6795, 490.5370, 845.1122],\n",
            "        [763.7324, 509.9956, 563.8968]])\n",
            "Add input to other: \n",
            " tensor([[1000.7826, 1000.1021, 1000.4817],\n",
            "        [1000.2437, 1000.4905, 1000.8451],\n",
            "        [1000.7637, 1000.5100, 1000.5639]])\n"
          ]
        }
      ]
    },
    {
      "cell_type": "markdown",
      "source": [
        "## Some basic operations + defining new tensors like another"
      ],
      "metadata": {
        "id": "WvHy4Cd6GYqu"
      }
    },
    {
      "cell_type": "code",
      "source": [
        "t11 = torch.rand((3, 5))\n",
        "t12 = t11.repeat((2, 1))\n",
        "print(t12)\n",
        "print(torch.ones_like(t12))\n",
        "print(torch.zeros_like(t12))\n",
        "print(torch.rand_like(t12, dtype=torch.float16))"
      ],
      "metadata": {
        "colab": {
          "base_uri": "https://localhost:8080/"
        },
        "id": "h5azl2iitEfe",
        "outputId": "8f7998f8-d476-48bc-97a1-51c96e53af1a"
      },
      "execution_count": 45,
      "outputs": [
        {
          "output_type": "stream",
          "name": "stdout",
          "text": [
            "tensor([[0.1586, 0.6270, 0.7749, 0.1501, 0.5294],\n",
            "        [0.0644, 0.3009, 0.4055, 0.2400, 0.3455],\n",
            "        [0.9678, 0.2473, 0.5628, 0.4203, 0.3063],\n",
            "        [0.1586, 0.6270, 0.7749, 0.1501, 0.5294],\n",
            "        [0.0644, 0.3009, 0.4055, 0.2400, 0.3455],\n",
            "        [0.9678, 0.2473, 0.5628, 0.4203, 0.3063]])\n",
            "tensor([[1., 1., 1., 1., 1.],\n",
            "        [1., 1., 1., 1., 1.],\n",
            "        [1., 1., 1., 1., 1.],\n",
            "        [1., 1., 1., 1., 1.],\n",
            "        [1., 1., 1., 1., 1.],\n",
            "        [1., 1., 1., 1., 1.]])\n",
            "tensor([[0., 0., 0., 0., 0.],\n",
            "        [0., 0., 0., 0., 0.],\n",
            "        [0., 0., 0., 0., 0.],\n",
            "        [0., 0., 0., 0., 0.],\n",
            "        [0., 0., 0., 0., 0.],\n",
            "        [0., 0., 0., 0., 0.]])\n",
            "tensor([[0.8320, 0.4175, 0.5161, 0.7168, 0.9932],\n",
            "        [0.2490, 0.1514, 0.2056, 0.3262, 0.2612],\n",
            "        [0.1660, 0.2495, 0.6616, 0.8696, 0.2480],\n",
            "        [0.2729, 0.2700, 0.7490, 0.3530, 0.0815],\n",
            "        [0.9868, 0.4775, 0.5571, 0.8281, 0.0771],\n",
            "        [0.1421, 0.8242, 0.3838, 0.2168, 0.5059]], dtype=torch.float16)\n"
          ]
        }
      ]
    },
    {
      "cell_type": "code",
      "source": [
        "t13 = torch.eye(4, 3)\n",
        "print(torch.cat([t13, -t13, t13, -t13], dim=1))\n",
        "print(torch.stack([t13, -t13, t13, -t13], dim=0))"
      ],
      "metadata": {
        "colab": {
          "base_uri": "https://localhost:8080/"
        },
        "id": "tGqjnn2Gurjk",
        "outputId": "66d9d808-bb9a-4fd0-fc88-64edf7079326"
      },
      "execution_count": 46,
      "outputs": [
        {
          "output_type": "stream",
          "name": "stdout",
          "text": [
            "tensor([[ 1.,  0.,  0., -1., -0., -0.,  1.,  0.,  0., -1., -0., -0.],\n",
            "        [ 0.,  1.,  0., -0., -1., -0.,  0.,  1.,  0., -0., -1., -0.],\n",
            "        [ 0.,  0.,  1., -0., -0., -1.,  0.,  0.,  1., -0., -0., -1.],\n",
            "        [ 0.,  0.,  0., -0., -0., -0.,  0.,  0.,  0., -0., -0., -0.]])\n",
            "tensor([[[ 1.,  0.,  0.],\n",
            "         [ 0.,  1.,  0.],\n",
            "         [ 0.,  0.,  1.],\n",
            "         [ 0.,  0.,  0.]],\n",
            "\n",
            "        [[-1., -0., -0.],\n",
            "         [-0., -1., -0.],\n",
            "         [-0., -0., -1.],\n",
            "         [-0., -0., -0.]],\n",
            "\n",
            "        [[ 1.,  0.,  0.],\n",
            "         [ 0.,  1.,  0.],\n",
            "         [ 0.,  0.,  1.],\n",
            "         [ 0.,  0.,  0.]],\n",
            "\n",
            "        [[-1., -0., -0.],\n",
            "         [-0., -1., -0.],\n",
            "         [-0., -0., -1.],\n",
            "         [-0., -0., -0.]]])\n"
          ]
        }
      ]
    },
    {
      "cell_type": "markdown",
      "source": [
        "## Loading and saving tensors"
      ],
      "metadata": {
        "id": "CtI4ppBpzZ8D"
      }
    },
    {
      "cell_type": "code",
      "source": [
        "t14 = torch.rand(6, 8)\n",
        "torch.save(t14, \"t14.pt\")\n",
        "t15 = torch.load(\"t14.pt\")\n",
        "print(t14==t15)"
      ],
      "metadata": {
        "colab": {
          "base_uri": "https://localhost:8080/"
        },
        "id": "U217TTDZzFtu",
        "outputId": "56dbbbdb-4d8f-43f9-c8fe-b2bac210ce02"
      },
      "execution_count": 47,
      "outputs": [
        {
          "output_type": "stream",
          "name": "stdout",
          "text": [
            "tensor([[True, True, True, True, True, True, True, True],\n",
            "        [True, True, True, True, True, True, True, True],\n",
            "        [True, True, True, True, True, True, True, True],\n",
            "        [True, True, True, True, True, True, True, True],\n",
            "        [True, True, True, True, True, True, True, True],\n",
            "        [True, True, True, True, True, True, True, True]])\n"
          ]
        }
      ]
    },
    {
      "cell_type": "code",
      "source": [
        "t15 = torch.rand(3, 3)\n",
        "print(t15)\n",
        "print(t15.flatten())"
      ],
      "metadata": {
        "colab": {
          "base_uri": "https://localhost:8080/"
        },
        "id": "ohx2_q1pz-mD",
        "outputId": "973c65e0-4deb-4729-89d4-030d6557fd3c"
      },
      "execution_count": 48,
      "outputs": [
        {
          "output_type": "stream",
          "name": "stdout",
          "text": [
            "tensor([[0.0628, 0.3850, 0.9075],\n",
            "        [0.4027, 0.9480, 0.5515],\n",
            "        [0.1001, 0.8550, 0.7722]])\n",
            "tensor([0.0628, 0.3850, 0.9075, 0.4027, 0.9480, 0.5515, 0.1001, 0.8550, 0.7722])\n"
          ]
        }
      ]
    },
    {
      "cell_type": "code",
      "source": [
        "t16 = torch.rand(8)\n",
        "print(t16)\n",
        "print(torch.topk(t16, 4))   # top k largest eloements\n",
        "print(torch.topk(t16, 4, largest=False))   # top k smallest eloements"
      ],
      "metadata": {
        "colab": {
          "base_uri": "https://localhost:8080/"
        },
        "id": "MBVHPde6zmEz",
        "outputId": "ab4db55b-7805-4a6b-dbd8-b9b1541a3a40"
      },
      "execution_count": 49,
      "outputs": [
        {
          "output_type": "stream",
          "name": "stdout",
          "text": [
            "tensor([0.1360, 0.0530, 0.4724, 0.6923, 0.6963, 0.1778, 0.6394, 0.7506])\n",
            "torch.return_types.topk(\n",
            "values=tensor([0.7506, 0.6963, 0.6923, 0.6394]),\n",
            "indices=tensor([7, 4, 3, 6]))\n",
            "torch.return_types.topk(\n",
            "values=tensor([0.0530, 0.1360, 0.1778, 0.4724]),\n",
            "indices=tensor([1, 0, 5, 2]))\n"
          ]
        }
      ]
    },
    {
      "cell_type": "markdown",
      "source": [
        "## Some PyTorch functions"
      ],
      "metadata": {
        "id": "JH-57wxlQmpg"
      }
    },
    {
      "cell_type": "code",
      "source": [
        "x = torch.linspace(-10, 10, steps=10000)\n",
        "plt.figure(figsize=(13, 9))\n",
        "def map_funcs(obj, func_list):\n",
        "    return [func(obj) for func in func_list]\n",
        "func_list = [torch.sin, torch.cos, torch.sinh, torch.cosh, torch.tanh, torch.square, torch.log, torch.exp, torch.sinc]\n",
        "func_names = [\"sin\", \"cos\", \"sinh\", \"cosh\", \"tanh\", \"square\", \"log\", \"exp\", \"sinc\"]\n",
        "ys = map_funcs(x, func_list)\n",
        "\n",
        "for i in range(len(ys)):\n",
        "  plt.subplot(int(math.sqrt(len(ys))), int(math.sqrt(len(ys))), i+1)\n",
        "  plt.plot(x, ys[i])\n",
        "  plt.title(func_names[i])\n",
        "plt.suptitle(\"Some PyTorch Functions\")\n",
        "plt.show()"
      ],
      "metadata": {
        "colab": {
          "base_uri": "https://localhost:8080/",
          "height": 843
        },
        "id": "vkIEwq5TQmKZ",
        "outputId": "1705d121-f984-4fbb-e4f8-380756136b68"
      },
      "execution_count": 50,
      "outputs": [
        {
          "output_type": "display_data",
          "data": {
            "text/plain": [
              "<Figure size 1300x900 with 9 Axes>"
            ],
            "image/png": "[encoded data removed]"
          },
          "metadata": {}
        }
      ]
    },
    {
      "cell_type": "markdown",
      "source": [
        "# Defining NNs and training NNs"
      ],
      "metadata": {
        "id": "WwwGHnjrNARZ"
      }
    },
    {
      "cell_type": "markdown",
      "source": [
        "## Defining CNN using nn.Sequential"
      ],
      "metadata": {
        "id": "8PeiFfq7Gtfd"
      }
    },
    {
      "cell_type": "code",
      "source": [
        "# A simple CNN using sequential\n",
        "model1 = nn.Sequential(nn.Conv2d(1, 32, 3),\n",
        "                      nn.ReLU(),\n",
        "                      nn.Conv2d(32, 64, 3)\n",
        "                      )\n",
        "\n",
        "# A simple CNN using sequential and ordered dict\n",
        "model2 = nn.Sequential(OrderedDict([\n",
        "                      (\"Conv1\", nn.Conv2d(1, 32, 3)),\n",
        "                      (\"ReLU1\", nn.ReLU()),\n",
        "                      (\"Conv2\", nn.Conv2d(32, 64, 3))\n",
        "                      ]))\n",
        "\n",
        "print(model1, \"\\n\", model2)"
      ],
      "metadata": {
        "colab": {
          "base_uri": "https://localhost:8080/"
        },
        "id": "cjnPceRVJ7aL",
        "outputId": "c41c59cb-34e7-41c4-b3f7-cfcff3bc139a"
      },
      "execution_count": 51,
      "outputs": [
        {
          "output_type": "stream",
          "name": "stdout",
          "text": [
            "Sequential(\n",
            "  (0): Conv2d(1, 32, kernel_size=(3, 3), stride=(1, 1))\n",
            "  (1): ReLU()\n",
            "  (2): Conv2d(32, 64, kernel_size=(3, 3), stride=(1, 1))\n",
            ") \n",
            " Sequential(\n",
            "  (Conv1): Conv2d(1, 32, kernel_size=(3, 3), stride=(1, 1))\n",
            "  (ReLU1): ReLU()\n",
            "  (Conv2): Conv2d(32, 64, kernel_size=(3, 3), stride=(1, 1))\n",
            ")\n"
          ]
        }
      ]
    },
    {
      "cell_type": "markdown",
      "source": [
        "## Training a Dense and a Convolutional network for classification of Fashion MNIST dataset"
      ],
      "metadata": {
        "id": "1xZxWqak7EsM"
      }
    },
    {
      "cell_type": "markdown",
      "source": [
        "### 1: Training a Fully Connected Neural Network"
      ],
      "metadata": {
        "id": "T6wj4l8tG6GF"
      }
    },
    {
      "cell_type": "markdown",
      "source": [
        "#### Defining hyperparameters and loading the dataset"
      ],
      "metadata": {
        "id": "kkyYTLwEHK-E"
      }
    },
    {
      "cell_type": "code",
      "source": [
        "# Defining hyperparameters\n",
        "input_size = 784\n",
        "num_classes = 10\n",
        "lr = 0.001\n",
        "batch_size = 64\n",
        "num_epochs = 5\n",
        "\n",
        "# Load data\n",
        "train_dataset = datasets.FashionMNIST(\n",
        "    root=\"dataset/\", train=True, transform=transforms.ToTensor(), download=True\n",
        ")\n",
        "test_dataset = datasets.FashionMNIST(\n",
        "    root=\"dataset/\", train=False, transform=transforms.ToTensor(), download=True\n",
        ")\n",
        "train_loader = DataLoader(dataset=train_dataset, batch_size=batch_size, shuffle=True)\n",
        "test_loader = DataLoader(dataset=test_dataset, batch_size=batch_size, shuffle=True)"
      ],
      "metadata": {
        "id": "5KQAjhihO6SS"
      },
      "execution_count": 52,
      "outputs": []
    },
    {
      "cell_type": "markdown",
      "source": [
        "#### Defining Neural Network"
      ],
      "metadata": {
        "id": "DTsNl1kNHhN7"
      }
    },
    {
      "cell_type": "code",
      "source": [
        "# A simple dense network using sequential\n",
        "densenn = nn.Sequential(nn.Linear(784, 256),\n",
        "                      nn.ReLU(),\n",
        "                      nn.Linear(256, 128),\n",
        "                      nn.ReLU(),\n",
        "                      nn.Linear(128, 32),\n",
        "                      nn.ReLU(),\n",
        "                      nn.Linear(32, 10)\n",
        "                      ).to(device)"
      ],
      "metadata": {
        "id": "rbFQkQshHlFN"
      },
      "execution_count": 53,
      "outputs": []
    },
    {
      "cell_type": "markdown",
      "source": [
        "#### Defining Train and Test functions"
      ],
      "metadata": {
        "id": "GbTNLBbAHm0s"
      }
    },
    {
      "cell_type": "code",
      "source": [
        "# Train Network\n",
        "def train(model, num_epochs, device, loader, criterion, optimizer, reshaping=False):\n",
        "  for epoch in range(num_epochs):\n",
        "      for batch_idx, (data, targets) in enumerate(tqdm(loader)):\n",
        "          # Move data to appropriate device\n",
        "          data = data.to(device=device)\n",
        "          targets = targets.to(device=device)\n",
        "\n",
        "          # reshape if you're dealing with fully connected model\n",
        "          if reshaping:\n",
        "            data = data.reshape(data.shape[0], -1)\n",
        "\n",
        "          # Forward pass\n",
        "          scores = model(data)\n",
        "          loss = criterion(scores, targets)\n",
        "\n",
        "          # Backward pass\n",
        "          optimizer.zero_grad()\n",
        "          loss.backward()\n",
        "\n",
        "          # Gradient descent and enhancing weights\n",
        "          optimizer.step()\n",
        "\n",
        "# Check accuracy on training & test to see how good our model\n",
        "def test(model, loader, reshaping=False):\n",
        "    \"\"\"A simple function to check the accuracy of the model on the test set\"\"\"\n",
        "    num_correct = 0\n",
        "    num_samples = 0\n",
        "    model.eval()\n",
        "    # We don't need to keep track of gradients here, so we wrap the function body in torch.no_grad()\n",
        "    with torch.no_grad():\n",
        "        # Loop through the loader\n",
        "        for x, y in loader:\n",
        "\n",
        "            # Move data to appropriate device\n",
        "            x = x.to(device=device)\n",
        "            y = y.to(device=device)\n",
        "\n",
        "            # reshape if you're dealing with fully connected model\n",
        "            if reshaping:\n",
        "              x = x.reshape(x.shape[0], -1)\n",
        "\n",
        "            # Forward pass\n",
        "            scores = model(x)\n",
        "            _, predictions = scores.max(1)\n",
        "\n",
        "            # Count number of correct predictions\n",
        "            num_correct += (predictions == y).sum()\n",
        "\n",
        "            # Keep track of number of samples\n",
        "            num_samples += predictions.size(0)\n",
        "\n",
        "    model.train()\n",
        "    return num_correct / num_samples"
      ],
      "metadata": {
        "id": "pEsB7G8LHwVM"
      },
      "execution_count": 54,
      "outputs": []
    },
    {
      "cell_type": "markdown",
      "source": [
        "#### Define criterion, optimizer, and do the train and test steps"
      ],
      "metadata": {
        "id": "nSEAkx4kIhbt"
      }
    },
    {
      "cell_type": "code",
      "source": [
        "# Loss and optimizer\n",
        "criterion = nn.CrossEntropyLoss()\n",
        "optimizer = optim.Adam(densenn.parameters(), lr=lr)\n",
        "\n",
        "# Train model for number of epochs\n",
        "train(densenn, num_epochs, device, train_loader, criterion, optimizer, reshaping=True)\n",
        "# Check accuracy on training & test to see how good our model\n",
        "print(f\"Accuracy on training set: {test(densenn, train_loader, reshaping=True)*100:.2f}\")\n",
        "print(f\"Accuracy on test set: {test(densenn, test_loader, reshaping=True)*100:.2f}\")"
      ],
      "metadata": {
        "colab": {
          "base_uri": "https://localhost:8080/"
        },
        "id": "od8C-ZVrHYPl",
        "outputId": "1ecc95cb-e7d2-4570-8583-0fe9d24fec72"
      },
      "execution_count": 55,
      "outputs": [
        {
          "output_type": "stream",
          "name": "stderr",
          "text": [
            "100%|██████████| 938/938 [00:08<00:00, 114.77it/s]\n",
            "100%|██████████| 938/938 [00:08<00:00, 111.98it/s]\n",
            "100%|██████████| 938/938 [00:08<00:00, 107.70it/s]\n",
            "100%|██████████| 938/938 [00:08<00:00, 111.63it/s]\n",
            "100%|██████████| 938/938 [00:08<00:00, 114.55it/s]\n"
          ]
        },
        {
          "output_type": "stream",
          "name": "stdout",
          "text": [
            "Accuracy on training set: 89.79\n",
            "Accuracy on test set: 87.50\n"
          ]
        }
      ]
    },
    {
      "cell_type": "markdown",
      "source": [
        "### 2: Training a Convolutional Neural Network"
      ],
      "metadata": {
        "id": "26pJ30aGI8Ba"
      }
    },
    {
      "cell_type": "markdown",
      "source": [
        "#### Defining hyperparameters"
      ],
      "metadata": {
        "id": "QlfoJFPIJCKa"
      }
    },
    {
      "cell_type": "code",
      "source": [
        "# Defining hyperparameters\n",
        "in_channels = 1\n",
        "num_classes = 10\n",
        "num_epochs = 10"
      ],
      "metadata": {
        "id": "JImKgxSFJFth"
      },
      "execution_count": 56,
      "outputs": []
    },
    {
      "cell_type": "markdown",
      "source": [
        "#### define a class for Convolutional Neural Networks"
      ],
      "metadata": {
        "id": "ifBzJMIaJHiT"
      }
    },
    {
      "cell_type": "code",
      "source": [
        "# define a class for Convolutional Neural Networks\n",
        "class CNN(nn.Module):\n",
        "    def __init__(self, in_channels=1, num_classes=10):\n",
        "        super(CNN, self).__init__()\n",
        "        self.conv1 = nn.Conv2d(in_channels=in_channels, out_channels=16, kernel_size=3, stride=1, padding=1)\n",
        "        self.conv2 = nn.Conv2d(in_channels=16, out_channels=32, kernel_size=3, stride=1, padding=1)\n",
        "        self.fcl = nn.Linear(32 * 7 * 7, num_classes)\n",
        "        self.relu = nn.ReLU()\n",
        "        self.pool = nn.MaxPool2d(kernel_size=2, stride=2)\n",
        "\n",
        "\n",
        "    def forward(self, x):\n",
        "        x = self.relu(self.conv1(x))\n",
        "        x = self.pool(x)\n",
        "        x = self.relu(self.conv2(x))\n",
        "        x = self.pool(x)\n",
        "        x = x.reshape(x.shape[0], -1)\n",
        "        x = self.fcl(x)\n",
        "        return x"
      ],
      "metadata": {
        "id": "z3Zlf0kEAy5F"
      },
      "execution_count": 57,
      "outputs": []
    },
    {
      "cell_type": "markdown",
      "source": [
        "#### Define criterion, optimizer, instanciate and object from CNN clas, and do the train and test steps"
      ],
      "metadata": {
        "id": "3S_vLpYqJRRZ"
      }
    },
    {
      "cell_type": "code",
      "source": [
        "# Initialize network\n",
        "cnn = CNN(in_channels=in_channels, num_classes=num_classes).to(device)\n",
        "# Loss and optimizer\n",
        "criterion = nn.CrossEntropyLoss()\n",
        "optimizer = optim.Adam(cnn.parameters(), lr=lr)\n",
        "\n",
        "# Train model for number of epochs\n",
        "train(cnn, num_epochs, device, train_loader, criterion, optimizer)\n",
        "# Check accuracy on training & test to see how good our model\n",
        "print(f\"Accuracy on training set: {test(cnn, train_loader)*100:.2f}\")\n",
        "print(f\"Accuracy on test set: {test(cnn, test_loader)*100:.2f}\")"
      ],
      "metadata": {
        "colab": {
          "base_uri": "https://localhost:8080/"
        },
        "id": "gAuFiW3ZJQOL",
        "outputId": "0666c289-7981-476b-afbe-63fd7bdd3cd8"
      },
      "execution_count": 58,
      "outputs": [
        {
          "output_type": "stream",
          "name": "stderr",
          "text": [
            "100%|██████████| 938/938 [00:08<00:00, 108.70it/s]\n",
            "100%|██████████| 938/938 [00:08<00:00, 113.46it/s]\n",
            "100%|██████████| 938/938 [00:08<00:00, 107.85it/s]\n",
            "100%|██████████| 938/938 [00:08<00:00, 108.91it/s]\n",
            "100%|██████████| 938/938 [00:08<00:00, 115.65it/s]\n",
            "100%|██████████| 938/938 [00:08<00:00, 105.73it/s]\n",
            "100%|██████████| 938/938 [00:08<00:00, 107.32it/s]\n",
            "100%|██████████| 938/938 [00:07<00:00, 118.35it/s]\n",
            "100%|██████████| 938/938 [00:08<00:00, 106.08it/s]\n",
            "100%|██████████| 938/938 [00:08<00:00, 105.96it/s]\n"
          ]
        },
        {
          "output_type": "stream",
          "name": "stdout",
          "text": [
            "Accuracy on training set: 92.74\n",
            "Accuracy on test set: 90.47\n"
          ]
        }
      ]
    },
    {
      "cell_type": "code",
      "source": [],
      "metadata": {
        "id": "PWLbY6_lFvFT"
      },
      "execution_count": 58,
      "outputs": []
    }
  ]
}